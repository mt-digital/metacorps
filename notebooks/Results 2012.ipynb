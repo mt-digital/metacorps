{
 "cells": [
  {
   "cell_type": "markdown",
   "metadata": {},
   "source": [
    "## Overview of results for September - November 2012\n",
    "\n",
    "As demonstrated in the _Results Plots Walkthrough_ notebook, we can load publically-available data to reproduce the results. In order to reduce clutter, this one is specifically for September - November 2012. "
   ]
  },
  {
   "cell_type": "code",
   "execution_count": 1,
   "metadata": {},
   "outputs": [],
   "source": [
    "# Set up our notebook environment.\n",
    "\n",
    "% matplotlib inline\n",
    "import matplotlib as mpl\n",
    "import numpy as np\n",
    "import pandas as pd\n",
    "\n",
    "import sys\n",
    "sys.path.append('../')\n",
    "\n",
    "import os\n",
    "\n",
    "# For interacting with the flask-mongoengine ODM. TODO: necessary?\n",
    "os.environ['CONFIG_FILE'] = 'conf/default.cfg'\n",
    "\n",
    "# This directory is in the .gitignore\n",
    "SAVE_DIR = 'Figures'\n",
    "if not os.path.isdir(SAVE_DIR):\n",
    "    os.mkdir(SAVE_DIR)\n",
    "    \n",
    "from projects.common import get_project_data_frame\n",
    "# TODO: incorporate this fit_all_networks into projects.common\n",
    "# from viomet_9_10_17 import (\n",
    "#     fit_all_networks, by_network_frequency_figure,\n",
    "#     subject_object_analysis, by_facet_word\n",
    "# )\n",
    "\n",
    "from projects.viomet.analysis import fit_all_networks\n",
    "from projects.viomet.vis import by_network_frequency_figure"
   ]
  },
  {
   "cell_type": "code",
   "execution_count": 2,
   "metadata": {},
   "outputs": [
    {
     "data": {
      "text/html": [
       "<div>\n",
       "<style>\n",
       "    .dataframe thead tr:only-child th {\n",
       "        text-align: right;\n",
       "    }\n",
       "\n",
       "    .dataframe thead th {\n",
       "        text-align: left;\n",
       "    }\n",
       "\n",
       "    .dataframe tbody tr th {\n",
       "        vertical-align: top;\n",
       "    }\n",
       "</style>\n",
       "<table border=\"1\" class=\"dataframe\">\n",
       "  <thead>\n",
       "    <tr style=\"text-align: right;\">\n",
       "      <th></th>\n",
       "      <th>start_localtime</th>\n",
       "      <th>start_time</th>\n",
       "      <th>stop_time</th>\n",
       "      <th>runtime_seconds</th>\n",
       "      <th>network</th>\n",
       "      <th>program_name</th>\n",
       "      <th>iatv_id</th>\n",
       "      <th>facet_word</th>\n",
       "      <th>conceptual_metaphor</th>\n",
       "      <th>spoken_by</th>\n",
       "      <th>subjects</th>\n",
       "      <th>objects</th>\n",
       "      <th>active_passive</th>\n",
       "      <th>text</th>\n",
       "      <th>tense</th>\n",
       "      <th>repeat</th>\n",
       "      <th>repeat_index</th>\n",
       "    </tr>\n",
       "  </thead>\n",
       "  <tbody>\n",
       "    <tr>\n",
       "      <th>0</th>\n",
       "      <td>2012-11-15 23:00:00</td>\n",
       "      <td>2012-11-16 07:00:00</td>\n",
       "      <td>2012-11-16 08:00:01</td>\n",
       "      <td>3601.0</td>\n",
       "      <td>MSNBCW</td>\n",
       "      <td>Hardball With Chris Matthews</td>\n",
       "      <td>MSNBCW_20121116_070000_Hardball_With_Chris_Mat...</td>\n",
       "      <td>hit</td>\n",
       "      <td>political act is a physical attack</td>\n",
       "      <td>NaN</td>\n",
       "      <td>Barack Obama</td>\n",
       "      <td>John McCain</td>\n",
       "      <td>active</td>\n",
       "      <td>WELCOME BACK TO \"HARDBALL.\" JOHN McCAIN AND HI...</td>\n",
       "      <td>past</td>\n",
       "      <td>False</td>\n",
       "      <td>NaN</td>\n",
       "    </tr>\n",
       "    <tr>\n",
       "      <th>1</th>\n",
       "      <td>2012-11-15 23:00:00</td>\n",
       "      <td>2012-11-16 07:00:00</td>\n",
       "      <td>2012-11-16 08:00:01</td>\n",
       "      <td>3601.0</td>\n",
       "      <td>MSNBCW</td>\n",
       "      <td>Hardball With Chris Matthews</td>\n",
       "      <td>MSNBCW_20121116_070000_Hardball_With_Chris_Mat...</td>\n",
       "      <td>hit</td>\n",
       "      <td>politics is a fight</td>\n",
       "      <td>NaN</td>\n",
       "      <td>investigators</td>\n",
       "      <td>David Petraeus</td>\n",
       "      <td>active</td>\n",
       "      <td>I'M SERIOUS. I'M THINKING OF ALL THE  POLITIC...</td>\n",
       "      <td>future</td>\n",
       "      <td>False</td>\n",
       "      <td>NaN</td>\n",
       "    </tr>\n",
       "    <tr>\n",
       "      <th>2</th>\n",
       "      <td>2012-10-05 19:00:00</td>\n",
       "      <td>2012-10-06 02:00:00</td>\n",
       "      <td>2012-10-06 03:00:01</td>\n",
       "      <td>3601.0</td>\n",
       "      <td>MSNBCW</td>\n",
       "      <td>Hardball With Chris Matthews</td>\n",
       "      <td>MSNBCW_20121006_020000_Hardball_With_Chris_Mat...</td>\n",
       "      <td>hit</td>\n",
       "      <td>progression in time is a physical impact</td>\n",
       "      <td>NaN</td>\n",
       "      <td>we</td>\n",
       "      <td>point in time</td>\n",
       "      <td>passive</td>\n",
       "      <td>WE HAVE HIT THE POINT IN THE  ELECTION WHERE ...</td>\n",
       "      <td>present</td>\n",
       "      <td>False</td>\n",
       "      <td>NaN</td>\n",
       "    </tr>\n",
       "    <tr>\n",
       "      <th>3</th>\n",
       "      <td>2012-10-05 19:00:00</td>\n",
       "      <td>2012-10-06 02:00:00</td>\n",
       "      <td>2012-10-06 03:00:01</td>\n",
       "      <td>3601.0</td>\n",
       "      <td>MSNBCW</td>\n",
       "      <td>Hardball With Chris Matthews</td>\n",
       "      <td>MSNBCW_20121006_020000_Hardball_With_Chris_Mat...</td>\n",
       "      <td>hit</td>\n",
       "      <td>financial loss as physical attack</td>\n",
       "      <td>NaN</td>\n",
       "      <td>Romney's Health Care Plan</td>\n",
       "      <td>Possiblities for insurance coverage</td>\n",
       "      <td>active</td>\n",
       "      <td>I JUST PUT TOGETHER SOME  NUMBERS ON THIS IN ...</td>\n",
       "      <td>future</td>\n",
       "      <td>False</td>\n",
       "      <td>NaN</td>\n",
       "    </tr>\n",
       "    <tr>\n",
       "      <th>4</th>\n",
       "      <td>2012-09-18 23:00:00</td>\n",
       "      <td>2012-09-19 06:00:00</td>\n",
       "      <td>2012-09-19 07:00:01</td>\n",
       "      <td>3601.0</td>\n",
       "      <td>MSNBCW</td>\n",
       "      <td>Hardball With Chris Matthews</td>\n",
       "      <td>MSNBCW_20120919_060000_Hardball_With_Chris_Mat...</td>\n",
       "      <td>hit</td>\n",
       "      <td>presidential election is a fight</td>\n",
       "      <td>NaN</td>\n",
       "      <td>something Romney said</td>\n",
       "      <td>Mitt Romney</td>\n",
       "      <td>active</td>\n",
       "      <td>I DON'T THINK THIS IS GOING  TO BE A BIG POLI...</td>\n",
       "      <td>future</td>\n",
       "      <td>False</td>\n",
       "      <td>NaN</td>\n",
       "    </tr>\n",
       "  </tbody>\n",
       "</table>\n",
       "</div>"
      ],
      "text/plain": [
       "      start_localtime           start_time            stop_time  \\\n",
       "0 2012-11-15 23:00:00  2012-11-16 07:00:00  2012-11-16 08:00:01   \n",
       "1 2012-11-15 23:00:00  2012-11-16 07:00:00  2012-11-16 08:00:01   \n",
       "2 2012-10-05 19:00:00  2012-10-06 02:00:00  2012-10-06 03:00:01   \n",
       "3 2012-10-05 19:00:00  2012-10-06 02:00:00  2012-10-06 03:00:01   \n",
       "4 2012-09-18 23:00:00  2012-09-19 06:00:00  2012-09-19 07:00:01   \n",
       "\n",
       "   runtime_seconds network                  program_name  \\\n",
       "0           3601.0  MSNBCW  Hardball With Chris Matthews   \n",
       "1           3601.0  MSNBCW  Hardball With Chris Matthews   \n",
       "2           3601.0  MSNBCW  Hardball With Chris Matthews   \n",
       "3           3601.0  MSNBCW  Hardball With Chris Matthews   \n",
       "4           3601.0  MSNBCW  Hardball With Chris Matthews   \n",
       "\n",
       "                                             iatv_id facet_word  \\\n",
       "0  MSNBCW_20121116_070000_Hardball_With_Chris_Mat...        hit   \n",
       "1  MSNBCW_20121116_070000_Hardball_With_Chris_Mat...        hit   \n",
       "2  MSNBCW_20121006_020000_Hardball_With_Chris_Mat...        hit   \n",
       "3  MSNBCW_20121006_020000_Hardball_With_Chris_Mat...        hit   \n",
       "4  MSNBCW_20120919_060000_Hardball_With_Chris_Mat...        hit   \n",
       "\n",
       "                        conceptual_metaphor spoken_by  \\\n",
       "0        political act is a physical attack       NaN   \n",
       "1                       politics is a fight       NaN   \n",
       "2  progression in time is a physical impact       NaN   \n",
       "3         financial loss as physical attack       NaN   \n",
       "4          presidential election is a fight       NaN   \n",
       "\n",
       "                    subjects                              objects  \\\n",
       "0               Barack Obama                          John McCain   \n",
       "1              investigators                       David Petraeus   \n",
       "2                         we                       point in time    \n",
       "3  Romney's Health Care Plan  Possiblities for insurance coverage   \n",
       "4      something Romney said                          Mitt Romney   \n",
       "\n",
       "  active_passive                                               text    tense  \\\n",
       "0        active   WELCOME BACK TO \"HARDBALL.\" JOHN McCAIN AND HI...     past   \n",
       "1        active    I'M SERIOUS. I'M THINKING OF ALL THE  POLITIC...   future   \n",
       "2       passive    WE HAVE HIT THE POINT IN THE  ELECTION WHERE ...  present   \n",
       "3        active    I JUST PUT TOGETHER SOME  NUMBERS ON THIS IN ...   future   \n",
       "4        active    I DON'T THINK THIS IS GOING  TO BE A BIG POLI...   future   \n",
       "\n",
       "   repeat  repeat_index  \n",
       "0   False           NaN  \n",
       "1   False           NaN  \n",
       "2   False           NaN  \n",
       "3   False           NaN  \n",
       "4   False           NaN  "
      ]
     },
     "execution_count": 2,
     "metadata": {},
     "output_type": "execute_result"
    }
   ],
   "source": [
    "# Fetch the processed .csv from metacorps.io and inspect the dataframe.\n",
    "metaphors_url = \\\n",
    "    'http://metacorps.io/static/data/viomet-2012-snapshot-project-df.csv'\n",
    "viomet_df = get_project_data_frame(metaphors_url)\n",
    "viomet_df.head()"
   ]
  },
  {
   "cell_type": "code",
   "execution_count": 3,
   "metadata": {},
   "outputs": [],
   "source": [
    "date_range = pd.date_range('2012-9-1', '2012-11-30', freq='D')\n",
    "# Run modeling fits to determine the first and last date of the \n",
    "# excited state for each of the three networks MSNBC, CNN, and Fox News.\n",
    "IATV_CORPUS_NAME = 'Viomet Sep-Nov 2012'\n",
    "fit_networks = fit_all_networks(\n",
    "    viomet_df,\n",
    "    date_range=date_range,\n",
    "    iatv_corpus_name=IATV_CORPUS_NAME  # TODO: why is this here?\n",
    ")\n",
    "# Fit a model to the aggregation over \n",
    "# agg = "
   ]
  },
  {
   "cell_type": "code",
   "execution_count": 4,
   "metadata": {},
   "outputs": [
    {
     "data": {
      "text/plain": [
       "{'CNNW': (<projects.viomet.analysis.PartitionInfo at 0x10b223ef0>,\n",
       "  AIC                                                      38.0484\n",
       "  coef                   [2.2000000000000046, -1.1180327868852522]\n",
       "  first_date                                   2012-10-04 00:00:00\n",
       "  model          [[2.2000000000000046, -1.1180327868852522], [3...\n",
       "  second_date                                  2012-10-17 00:00:00\n",
       "  Name: 540, dtype: object),\n",
       " 'FOXNEWSW': (<projects.viomet.analysis.PartitionInfo at 0x10313c198>,\n",
       "  AIC                                                      85.5142\n",
       "  coef                    [2.600000000000001, -0.8000000000000013]\n",
       "  first_date                                   2012-09-30 00:00:00\n",
       "  model          [[2.600000000000001, -0.8000000000000013], [2....\n",
       "  second_date                                  2012-10-23 00:00:00\n",
       "  Name: 426, dtype: object),\n",
       " 'MSNBCW': (<projects.viomet.analysis.PartitionInfo at 0x10af23780>,\n",
       "  AIC                                                       80.423\n",
       "  coef                    [3.115384615384614, -1.1664050235478824]\n",
       "  first_date                                   2012-09-18 00:00:00\n",
       "  model          [[3.115384615384614, -1.1664050235478824], [-0...\n",
       "  second_date                                  2012-10-17 00:00:00\n",
       "  Name: 60, dtype: object)}"
      ]
     },
     "execution_count": 4,
     "metadata": {},
     "output_type": "execute_result"
    }
   ],
   "source": [
    "fit_networks"
   ]
  },
  {
   "cell_type": "code",
   "execution_count": 5,
   "metadata": {},
   "outputs": [
    {
     "data": {
      "text/html": [
       "\n",
       "        <iframe\n",
       "            width=\"600\"\n",
       "            height=\"450\"\n",
       "            src=\"Figures/model_fits_2012.pdf\"\n",
       "            frameborder=\"0\"\n",
       "            allowfullscreen\n",
       "        ></iframe>\n",
       "        "
      ],
      "text/plain": [
       "<IPython.lib.display.IFrame at 0x10b2285c0>"
      ]
     },
     "execution_count": 5,
     "metadata": {},
     "output_type": "execute_result"
    }
   ],
   "source": [
    "# The fit_networks dictionary printed above\n",
    "# contains more information than we need\n",
    "# at this time. Here we extract what we do need.\n",
    "partition_infos = {network: fit_networks[network][0]\n",
    "                   for network in ['MSNBCW', 'CNNW', 'FOXNEWSW']}\n",
    "\n",
    "from projects.viomet.vis import by_network_frequency_figure\n",
    "by_network_frequency_figure(\n",
    "    viomet_df, date_range=date_range,\n",
    "    iatv_corpus_name=IATV_CORPUS_NAME,\n",
    "    partition_infos=partition_infos,\n",
    "    save_path='Figures/model_fits_2012.pdf'\n",
    ")\n",
    "\n",
    "from IPython.display import IFrame\n",
    "IFrame('Figures/model_fits_2012.pdf', width=600, height=450)"
   ]
  },
  {
   "cell_type": "code",
   "execution_count": 6,
   "metadata": {
    "scrolled": false
   },
   "outputs": [],
   "source": [
    "# soa_dict = subject_object_analysis(\n",
    "#     viomet_df, subj_obj=[\n",
    "#         ('Romney', 'Obama'),\n",
    "#         ('Obama', 'Romney'),\n",
    "#         ('Romney', None),\n",
    "#         ('Obama', None),\n",
    "#         (None, 'Romney'),\n",
    "#         (None, 'Obama')\n",
    "#     ],    \n",
    "#     date_range=date_range,\n",
    "#     plot=True, save_dir=SAVE_DIR, font_scale=1.5\n",
    "# )"
   ]
  },
  {
   "cell_type": "code",
   "execution_count": 7,
   "metadata": {},
   "outputs": [
    {
     "name": "stdout",
     "output_type": "stream",
     "text": [
      "Index(['CNNW', 'FOXNEWSW', 'MSNBCW'], dtype='object', name='network')\n"
     ]
    },
    {
     "data": {
      "text/html": [
       "<div>\n",
       "<style>\n",
       "    .dataframe thead tr:only-child th {\n",
       "        text-align: right;\n",
       "    }\n",
       "\n",
       "    .dataframe thead th {\n",
       "        text-align: left;\n",
       "    }\n",
       "\n",
       "    .dataframe tbody tr th {\n",
       "        vertical-align: top;\n",
       "    }\n",
       "</style>\n",
       "<table border=\"1\" class=\"dataframe\">\n",
       "  <thead>\n",
       "    <tr style=\"text-align: right;\">\n",
       "      <th></th>\n",
       "      <th>ground</th>\n",
       "      <th>excited</th>\n",
       "    </tr>\n",
       "    <tr>\n",
       "      <th>network</th>\n",
       "      <th></th>\n",
       "      <th></th>\n",
       "    </tr>\n",
       "  </thead>\n",
       "  <tbody>\n",
       "    <tr>\n",
       "      <th>CNNW</th>\n",
       "      <td>116.0</td>\n",
       "      <td>44.0</td>\n",
       "    </tr>\n",
       "    <tr>\n",
       "      <th>FOXNEWSW</th>\n",
       "      <td>139.0</td>\n",
       "      <td>88.0</td>\n",
       "    </tr>\n",
       "    <tr>\n",
       "      <th>MSNBCW</th>\n",
       "      <td>158.0</td>\n",
       "      <td>143.0</td>\n",
       "    </tr>\n",
       "  </tbody>\n",
       "</table>\n",
       "</div>"
      ],
      "text/plain": [
       "          ground  excited\n",
       "network                  \n",
       "CNNW       116.0     44.0\n",
       "FOXNEWSW   139.0     88.0\n",
       "MSNBCW     158.0    143.0"
      ]
     },
     "metadata": {},
     "output_type": "display_data"
    }
   ],
   "source": [
    "from projects.common.analysis import daily_metaphor_counts\n",
    "from projects.viomet.analysis import partition_sums\n",
    "\n",
    "counts = daily_metaphor_counts(viomet_df, date_range, by=['network'])\n",
    "sums = partition_sums(counts, partition_infos)\n",
    "\n",
    "display(sums)"
   ]
  },
  {
   "cell_type": "markdown",
   "metadata": {},
   "source": [
    "This actually is correct, I'm confident. I want to make some separate scripts for doing these analyses, so I can just do `python partition_sums.py` and it will create some latex tables automatically. "
   ]
  },
  {
   "cell_type": "markdown",
   "metadata": {},
   "source": [
    "## Calculation of fit parameters from partition_infos"
   ]
  },
  {
   "cell_type": "code",
   "execution_count": 8,
   "metadata": {},
   "outputs": [],
   "source": [
    "# from projects.viomet.analysis import partition_info_table\n",
    "# print(partition_info_table(partition_infos))"
   ]
  },
  {
   "cell_type": "code",
   "execution_count": 9,
   "metadata": {},
   "outputs": [],
   "source": [
    "# from projects.viomet.analysis import partition_sums\n",
    "# from projects.common.analysis import daily_metaphor_counts\n",
    "# import pandas as pd\n",
    "\n",
    "# dates = pd.date_range('2012-9-1', '2012-11-30', freq='D')\n",
    "# cdf = daily_metaphor_counts(viomet_df, dates, by=['network'])\n",
    "# # display(cdf.head())\n",
    "# display(partition_sums(cdf, partition_infos))"
   ]
  },
  {
   "cell_type": "code",
   "execution_count": 10,
   "metadata": {},
   "outputs": [],
   "source": [
    "# cdf = daily_metaphor_counts(viomet_df, dates, by=['network', 'facet_word'])\n",
    "# sums = partition_sums(cdf, partition_infos)"
   ]
  }
 ],
 "metadata": {
  "kernelspec": {
   "display_name": "Python 3",
   "language": "python",
   "name": "python3"
  },
  "language_info": {
   "codemirror_mode": {
    "name": "ipython",
    "version": 3
   },
   "file_extension": ".py",
   "mimetype": "text/x-python",
   "name": "python",
   "nbconvert_exporter": "python",
   "pygments_lexer": "ipython3",
   "version": "3.6.2"
  }
 },
 "nbformat": 4,
 "nbformat_minor": 2
}
